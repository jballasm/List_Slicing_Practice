{
 "cells": [
  {
   "cell_type": "markdown",
   "id": "84114222",
   "metadata": {},
   "source": [
    "### Practice Questions on Lists\n",
    "(Submit the notebook on Moodle using Github along with the class notebook)"
   ]
  },
  {
   "cell_type": "markdown",
   "id": "0891df79",
   "metadata": {},
   "source": [
    "### numbers = [0, 1, 2, 3, 4, 5, 6, 7, 8, 9]\n",
    "1. Get the first three elements.\n",
    "2. Get elements from index 3 to 6 (inclusive).\n",
    "3. Get the last three elements.\n",
    "4. Get every second element from the list.\n",
    "5. Get a reverse of the list."
   ]
  },
  {
   "cell_type": "code",
   "execution_count": 1,
   "id": "5efba997",
   "metadata": {},
   "outputs": [],
   "source": [
    "numbers=[0,1,2,3,4,5,6,7,8,9]"
   ]
  },
  {
   "cell_type": "code",
   "execution_count": 2,
   "id": "2183500f",
   "metadata": {
    "scrolled": true
   },
   "outputs": [
    {
     "name": "stdout",
     "output_type": "stream",
     "text": [
      "The first three numbers: [0, 1, 2]\n"
     ]
    }
   ],
   "source": [
    "print(f\"The first three numbers: {numbers[:3]}\")"
   ]
  },
  {
   "cell_type": "code",
   "execution_count": 3,
   "id": "9fd8cb70",
   "metadata": {},
   "outputs": [
    {
     "name": "stdout",
     "output_type": "stream",
     "text": [
      "Numbers index 3 to 6: [3, 4, 5, 6]\n"
     ]
    }
   ],
   "source": [
    "print(f\"Numbers index 3 to 6: {numbers[3:7]}\") #Prints index wise"
   ]
  },
  {
   "cell_type": "code",
   "execution_count": 4,
   "id": "45f3bfac",
   "metadata": {},
   "outputs": [
    {
     "name": "stdout",
     "output_type": "stream",
     "text": [
      "The last three index: [7, 8, 9]\n"
     ]
    }
   ],
   "source": [
    "print(f\"The last three index: {numbers[-3:]}\")"
   ]
  },
  {
   "cell_type": "code",
   "execution_count": 5,
   "id": "7e257fb3",
   "metadata": {},
   "outputs": [
    {
     "name": "stdout",
     "output_type": "stream",
     "text": [
      "Every second element: [0, 2, 4, 6, 8]\n"
     ]
    }
   ],
   "source": [
    "print(f\"Every second element: {numbers[::2]}\")"
   ]
  },
  {
   "cell_type": "code",
   "execution_count": 6,
   "id": "48f03374",
   "metadata": {},
   "outputs": [
    {
     "name": "stdout",
     "output_type": "stream",
     "text": [
      "Reversed: [9, 8, 7, 6, 5, 4, 3, 2, 1, 0]\n"
     ]
    }
   ],
   "source": [
    "print(f\"Reversed: {numbers[::-1]}\")"
   ]
  },
  {
   "cell_type": "markdown",
   "id": "dcc22463",
   "metadata": {},
   "source": [
    "### letters = ['a', 'b', 'c', 'd', 'e', 'f', 'g', 'h', 'i', 'j']\n",
    "1. Get every second letter starting from the first letter.\n",
    "2. Get every third letter starting from the second letter.\n",
    "3. Get every fourth letter starting from the third letter."
   ]
  },
  {
   "cell_type": "code",
   "execution_count": 7,
   "id": "34576f2b",
   "metadata": {},
   "outputs": [],
   "source": [
    "letters = ['a', 'b', 'c', 'd', 'e', 'f', 'g', 'h', 'i', 'j']"
   ]
  },
  {
   "cell_type": "code",
   "execution_count": 8,
   "id": "7f3f0694",
   "metadata": {},
   "outputs": [
    {
     "name": "stdout",
     "output_type": "stream",
     "text": [
      "Every second letter: ['a', 'c', 'e', 'g', 'i']\n"
     ]
    }
   ],
   "source": [
    "print(f\"Every second letter: {letters[::2]}\")"
   ]
  },
  {
   "cell_type": "code",
   "execution_count": 9,
   "id": "ed8890ef",
   "metadata": {},
   "outputs": [
    {
     "name": "stdout",
     "output_type": "stream",
     "text": [
      "Every third letter starting from second letter: ['b', 'e', 'h']\n"
     ]
    }
   ],
   "source": [
    "print(f\"Every third letter starting from second letter: {letters[1::3]}\")"
   ]
  },
  {
   "cell_type": "code",
   "execution_count": 10,
   "id": "5cdba119",
   "metadata": {},
   "outputs": [
    {
     "name": "stdout",
     "output_type": "stream",
     "text": [
      " Every fourth ketter starting from third letter: ['c', 'g']\n"
     ]
    }
   ],
   "source": [
    "print(f\" Every fourth ketter starting from third letter: {letters[2::4]}\")"
   ]
  },
  {
   "cell_type": "code",
   "execution_count": null,
   "id": "75b02195",
   "metadata": {},
   "outputs": [],
   "source": []
  },
  {
   "cell_type": "markdown",
   "id": "ee041ed9",
   "metadata": {},
   "source": [
    "### colors = ['red', 'green', 'blue', 'yellow', 'purple']\n",
    "1. Get the last two elements.\n",
    "2. Get elements from the third to the last element.\n",
    "3. Get a reverse of the list using negative indexing."
   ]
  },
  {
   "cell_type": "code",
   "execution_count": 11,
   "id": "0e5e09a0",
   "metadata": {},
   "outputs": [],
   "source": [
    "colors = ['red', 'green', 'blue', 'yellow', 'purple']"
   ]
  },
  {
   "cell_type": "code",
   "execution_count": 12,
   "id": "54a6f796",
   "metadata": {},
   "outputs": [
    {
     "name": "stdout",
     "output_type": "stream",
     "text": [
      "Last two elements: ['yellow', 'purple']\n"
     ]
    }
   ],
   "source": [
    "print(f\"Last two elements: {colors[-2:]}\")"
   ]
  },
  {
   "cell_type": "code",
   "execution_count": 13,
   "id": "d27f6b9b",
   "metadata": {},
   "outputs": [
    {
     "name": "stdout",
     "output_type": "stream",
     "text": [
      "Elements third to last: ['blue', 'yellow', 'purple']\n"
     ]
    }
   ],
   "source": [
    "print(f\"Elements third to last: {colors[2:]}\")"
   ]
  },
  {
   "cell_type": "code",
   "execution_count": 14,
   "id": "7d74f27a",
   "metadata": {},
   "outputs": [
    {
     "name": "stdout",
     "output_type": "stream",
     "text": [
      "Reversed using negative index: ['purple', 'yellow', 'blue', 'green', 'red']\n"
     ]
    }
   ],
   "source": [
    "print(f\"Reversed using negative index: {colors[::-1]}\")"
   ]
  },
  {
   "cell_type": "code",
   "execution_count": 15,
   "id": "e093e4b6",
   "metadata": {},
   "outputs": [
    {
     "name": "stdout",
     "output_type": "stream",
     "text": [
      " Reversed step of two: ['purple', 'blue', 'red']\n"
     ]
    }
   ],
   "source": [
    "print(f\" Reversed step of two: {colors[::-2]}\")"
   ]
  },
  {
   "cell_type": "markdown",
   "id": "015a43d4",
   "metadata": {},
   "source": [
    "## Slicing Nested Lists\n",
    "### matrix = [[1, 2, 3], [4, 5, 6], [7, 8, 9]]\n",
    "1. Extract the second row (list [4, 5, 6]).\n",
    "2. Extract the number 2.\n",
    "3. Extract the number 9.\n",
    "#### Extract means print"
   ]
  },
  {
   "cell_type": "code",
   "execution_count": 16,
   "id": "b45aca96",
   "metadata": {},
   "outputs": [],
   "source": [
    "matrix = [[1, 2, 3], [4, 5, 6], [7, 8, 9]]"
   ]
  },
  {
   "cell_type": "code",
   "execution_count": 17,
   "id": "3cef0e46",
   "metadata": {},
   "outputs": [
    {
     "name": "stdout",
     "output_type": "stream",
     "text": [
      "Print second row: [4, 5, 6]\n"
     ]
    }
   ],
   "source": [
    "print(f\"Print second row: {matrix[1]}\")"
   ]
  },
  {
   "cell_type": "code",
   "execution_count": 18,
   "id": "a8aae9fc",
   "metadata": {},
   "outputs": [
    {
     "name": "stdout",
     "output_type": "stream",
     "text": [
      "Print number 2: 2\n"
     ]
    }
   ],
   "source": [
    "print(f\"Print number 2: {matrix[0][1]}\")"
   ]
  },
  {
   "cell_type": "code",
   "execution_count": 19,
   "id": "f6912ee9",
   "metadata": {},
   "outputs": [
    {
     "name": "stdout",
     "output_type": "stream",
     "text": [
      "Print number 9:9\n"
     ]
    }
   ],
   "source": [
    "print(f\"Print number 9:{matrix[2][2]}\")"
   ]
  },
  {
   "cell_type": "markdown",
   "id": "3a119c2c",
   "metadata": {},
   "source": [
    "### matrix1=['Day',[23,45],'Monday',[[12,13],[14,15]]] \n",
    "1. Print Monday\n",
    "2. Print 13\n",
    "3. Print 15\n",
    "4. Print 45\n",
    "5. Print Day"
   ]
  },
  {
   "cell_type": "code",
   "execution_count": 20,
   "id": "d5bdc5a4",
   "metadata": {},
   "outputs": [],
   "source": [
    "matrix=['Day', [23,45],'Monday', [[12,13],[14,15]]]"
   ]
  },
  {
   "cell_type": "code",
   "execution_count": 21,
   "id": "9f6a6263",
   "metadata": {},
   "outputs": [
    {
     "name": "stdout",
     "output_type": "stream",
     "text": [
      "['Day', [23, 45], 'Monday', [[12, 13], [14, 15]]]\n"
     ]
    }
   ],
   "source": [
    "print(matrix)"
   ]
  },
  {
   "cell_type": "code",
   "execution_count": 24,
   "id": "4a6adeee",
   "metadata": {},
   "outputs": [
    {
     "name": "stdout",
     "output_type": "stream",
     "text": [
      "Monday: Monday\n"
     ]
    }
   ],
   "source": [
    "print(f\"Monday: {matrix[2]}\")"
   ]
  },
  {
   "cell_type": "code",
   "execution_count": 26,
   "id": "c056ae99",
   "metadata": {},
   "outputs": [
    {
     "name": "stdout",
     "output_type": "stream",
     "text": [
      "13: 13\n"
     ]
    }
   ],
   "source": [
    "print(f\"13: {matrix[3][0][1]}\")"
   ]
  },
  {
   "cell_type": "code",
   "execution_count": 29,
   "id": "6d2c7718",
   "metadata": {},
   "outputs": [
    {
     "name": "stdout",
     "output_type": "stream",
     "text": [
      "15:15\n"
     ]
    }
   ],
   "source": [
    "print(f\"15:{matrix[3][1][1]}\")"
   ]
  },
  {
   "cell_type": "code",
   "execution_count": 30,
   "id": "58e17040",
   "metadata": {},
   "outputs": [
    {
     "name": "stdout",
     "output_type": "stream",
     "text": [
      "45:45\n"
     ]
    }
   ],
   "source": [
    "print(f\"45:{matrix[1][1]}\")"
   ]
  },
  {
   "cell_type": "code",
   "execution_count": 32,
   "id": "afa6571e",
   "metadata": {},
   "outputs": [
    {
     "name": "stdout",
     "output_type": "stream",
     "text": [
      "Day:Day\n"
     ]
    }
   ],
   "source": [
    "print(f'Day:{matrix[0]}')"
   ]
  },
  {
   "cell_type": "code",
   "execution_count": null,
   "id": "22e8e4f1",
   "metadata": {},
   "outputs": [],
   "source": []
  }
 ],
 "metadata": {
  "kernelspec": {
   "display_name": "Python 3 (ipykernel)",
   "language": "python",
   "name": "python3"
  },
  "language_info": {
   "codemirror_mode": {
    "name": "ipython",
    "version": 3
   },
   "file_extension": ".py",
   "mimetype": "text/x-python",
   "name": "python",
   "nbconvert_exporter": "python",
   "pygments_lexer": "ipython3",
   "version": "3.11.4"
  }
 },
 "nbformat": 4,
 "nbformat_minor": 5
}
